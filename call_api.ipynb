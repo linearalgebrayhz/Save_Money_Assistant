{
 "cells": [
  {
   "cell_type": "code",
   "execution_count": 1,
   "metadata": {},
   "outputs": [
    {
     "name": "stdout",
     "output_type": "stream",
     "text": [
      "Collecting python-dotenv\n",
      "  Downloading python_dotenv-1.0.1-py3-none-any.whl (19 kB)\n",
      "Collecting openai\n",
      "  Downloading openai-1.35.7-py3-none-any.whl (327 kB)\n",
      "     ------------------------------------- 327.5/327.5 kB 75.8 kB/s eta 0:00:00\n",
      "Collecting langchain\n",
      "  Downloading langchain-0.2.6-py3-none-any.whl (975 kB)\n",
      "     ------------------------------------ 975.5/975.5 kB 286.0 kB/s eta 0:00:00\n",
      "Collecting langchain_openai\n",
      "  Downloading langchain_openai-0.1.13-py3-none-any.whl (45 kB)\n",
      "     -------------------------------------- 45.9/45.9 kB 758.9 kB/s eta 0:00:00\n",
      "Requirement already satisfied: tqdm>4 in c:\\programdata\\anaconda3\\lib\\site-packages (from openai) (4.65.0)\n",
      "Collecting distro<2,>=1.7.0\n",
      "  Downloading distro-1.9.0-py3-none-any.whl (20 kB)\n",
      "Requirement already satisfied: anyio<5,>=3.5.0 in c:\\programdata\\anaconda3\\lib\\site-packages (from openai) (3.5.0)\n",
      "Requirement already satisfied: typing-extensions<5,>=4.7 in c:\\programdata\\anaconda3\\lib\\site-packages (from openai) (4.9.0)\n",
      "Requirement already satisfied: sniffio in c:\\programdata\\anaconda3\\lib\\site-packages (from openai) (1.3.0)\n",
      "Collecting httpx<1,>=0.23.0\n",
      "  Downloading httpx-0.27.0-py3-none-any.whl (75 kB)\n",
      "     -------------------------------------- 75.6/75.6 kB 463.5 kB/s eta 0:00:00\n",
      "Collecting pydantic<3,>=1.9.0\n",
      "  Downloading pydantic-2.8.0-py3-none-any.whl (423 kB)\n",
      "     ------------------------------------ 423.1/423.1 kB 297.0 kB/s eta 0:00:00\n",
      "Collecting langchain-core<0.3.0,>=0.2.10\n",
      "  Downloading langchain_core-0.2.10-py3-none-any.whl (332 kB)\n",
      "     ------------------------------------ 332.8/332.8 kB 261.4 kB/s eta 0:00:00\n",
      "Requirement already satisfied: aiohttp<4.0.0,>=3.8.3 in c:\\programdata\\anaconda3\\lib\\site-packages (from langchain) (3.9.5)\n",
      "Collecting tenacity!=8.4.0,<9.0.0,>=8.1.0\n",
      "  Downloading tenacity-8.4.2-py3-none-any.whl (28 kB)\n",
      "Requirement already satisfied: requests<3,>=2 in c:\\programdata\\anaconda3\\lib\\site-packages (from langchain) (2.32.3)\n",
      "Requirement already satisfied: numpy<2,>=1 in c:\\programdata\\anaconda3\\lib\\site-packages (from langchain) (1.25.2)\n",
      "Requirement already satisfied: PyYAML>=5.3 in c:\\programdata\\anaconda3\\lib\\site-packages (from langchain) (6.0)\n",
      "Collecting langsmith<0.2.0,>=0.1.17\n",
      "  Downloading langsmith-0.1.83-py3-none-any.whl (127 kB)\n",
      "     ------------------------------------ 127.5/127.5 kB 535.5 kB/s eta 0:00:00\n",
      "Collecting SQLAlchemy<3,>=1.4\n",
      "  Downloading SQLAlchemy-2.0.31-cp310-cp310-win_amd64.whl (2.1 MB)\n",
      "     ---------------------------------------- 2.1/2.1 MB 297.0 kB/s eta 0:00:00\n",
      "Requirement already satisfied: async-timeout<5.0.0,>=4.0.0 in c:\\programdata\\anaconda3\\lib\\site-packages (from langchain) (4.0.3)\n",
      "Collecting langchain-text-splitters<0.3.0,>=0.2.0\n",
      "  Downloading langchain_text_splitters-0.2.2-py3-none-any.whl (25 kB)\n",
      "Collecting tiktoken<1,>=0.7\n",
      "  Downloading tiktoken-0.7.0-cp310-cp310-win_amd64.whl (798 kB)\n",
      "     ------------------------------------ 798.9/798.9 kB 282.0 kB/s eta 0:00:00\n",
      "Requirement already satisfied: aiosignal>=1.1.2 in c:\\programdata\\anaconda3\\lib\\site-packages (from aiohttp<4.0.0,>=3.8.3->langchain) (1.3.1)\n",
      "Requirement already satisfied: attrs>=17.3.0 in c:\\programdata\\anaconda3\\lib\\site-packages (from aiohttp<4.0.0,>=3.8.3->langchain) (22.1.0)\n",
      "Requirement already satisfied: yarl<2.0,>=1.0 in c:\\programdata\\anaconda3\\lib\\site-packages (from aiohttp<4.0.0,>=3.8.3->langchain) (1.9.4)\n",
      "Requirement already satisfied: multidict<7.0,>=4.5 in c:\\programdata\\anaconda3\\lib\\site-packages (from aiohttp<4.0.0,>=3.8.3->langchain) (6.0.5)\n",
      "Requirement already satisfied: frozenlist>=1.1.1 in c:\\programdata\\anaconda3\\lib\\site-packages (from aiohttp<4.0.0,>=3.8.3->langchain) (1.4.1)\n",
      "Requirement already satisfied: idna>=2.8 in c:\\programdata\\anaconda3\\lib\\site-packages (from anyio<5,>=3.5.0->openai) (3.4)\n",
      "Collecting httpcore==1.*\n",
      "  Downloading httpcore-1.0.5-py3-none-any.whl (77 kB)\n",
      "     --------------------------------------- 77.9/77.9 kB 90.2 kB/s eta 0:00:00\n",
      "Requirement already satisfied: certifi in c:\\programdata\\anaconda3\\lib\\site-packages (from httpx<1,>=0.23.0->openai) (2024.2.2)\n",
      "Collecting h11<0.15,>=0.13\n",
      "  Downloading h11-0.14.0-py3-none-any.whl (58 kB)\n",
      "     -------------------------------------- 58.3/58.3 kB 279.2 kB/s eta 0:00:00\n",
      "Collecting jsonpatch<2.0,>=1.33\n",
      "  Downloading jsonpatch-1.33-py2.py3-none-any.whl (12 kB)\n",
      "Collecting packaging<25,>=23.2\n",
      "  Using cached packaging-24.1-py3-none-any.whl (53 kB)\n",
      "Collecting orjson<4.0.0,>=3.9.14\n",
      "  Downloading orjson-3.10.5-cp310-none-win_amd64.whl (141 kB)\n",
      "     ------------------------------------ 141.3/141.3 kB 195.3 kB/s eta 0:00:00\n",
      "Collecting annotated-types>=0.4.0\n",
      "  Downloading annotated_types-0.7.0-py3-none-any.whl (13 kB)\n",
      "Collecting pydantic-core==2.20.0\n",
      "  Downloading pydantic_core-2.20.0-cp310-none-win_amd64.whl (1.9 MB)\n",
      "     ---------------------------------------- 1.9/1.9 MB 316.1 kB/s eta 0:00:00\n",
      "Requirement already satisfied: charset-normalizer<4,>=2 in c:\\programdata\\anaconda3\\lib\\site-packages (from requests<3,>=2->langchain) (2.0.4)\n",
      "Requirement already satisfied: urllib3<3,>=1.21.1 in c:\\programdata\\anaconda3\\lib\\site-packages (from requests<3,>=2->langchain) (1.26.16)\n",
      "Collecting greenlet!=0.4.17\n",
      "  Downloading greenlet-3.0.3-cp310-cp310-win_amd64.whl (292 kB)\n",
      "     ------------------------------------ 292.3/292.3 kB 401.3 kB/s eta 0:00:00\n",
      "Requirement already satisfied: regex>=2022.1.18 in c:\\programdata\\anaconda3\\lib\\site-packages (from tiktoken<1,>=0.7->langchain_openai) (2024.5.15)\n",
      "Requirement already satisfied: colorama in c:\\programdata\\anaconda3\\lib\\site-packages (from tqdm>4->openai) (0.4.6)\n",
      "Requirement already satisfied: jsonpointer>=1.9 in c:\\programdata\\anaconda3\\lib\\site-packages (from jsonpatch<2.0,>=1.33->langchain-core<0.3.0,>=0.2.10->langchain) (2.1)\n",
      "Installing collected packages: tenacity, python-dotenv, pydantic-core, packaging, orjson, jsonpatch, h11, greenlet, distro, annotated-types, tiktoken, SQLAlchemy, pydantic, httpcore, langsmith, httpx, openai, langchain-core, langchain-text-splitters, langchain_openai, langchain\n",
      "  Attempting uninstall: packaging\n",
      "    Found existing installation: packaging 23.0\n",
      "    Uninstalling packaging-23.0:\n",
      "      Successfully uninstalled packaging-23.0\n",
      "  Attempting uninstall: jsonpatch\n",
      "    Found existing installation: jsonpatch 1.32\n",
      "    Uninstalling jsonpatch-1.32:\n",
      "      Successfully uninstalled jsonpatch-1.32\n",
      "Successfully installed SQLAlchemy-2.0.31 annotated-types-0.7.0 distro-1.9.0 greenlet-3.0.3 h11-0.14.0 httpcore-1.0.5 httpx-0.27.0 jsonpatch-1.33 langchain-0.2.6 langchain-core-0.2.10 langchain-text-splitters-0.2.2 langchain_openai-0.1.13 langsmith-0.1.83 openai-1.35.7 orjson-3.10.5 packaging-24.1 pydantic-2.8.0 pydantic-core-2.20.0 python-dotenv-1.0.1 tenacity-8.4.2 tiktoken-0.7.0\n"
     ]
    }
   ],
   "source": [
    "!pip install python-dotenv openai langchain langchain_openai\n"
   ]
  },
  {
   "cell_type": "markdown",
   "metadata": {},
   "source": [
    "加载环境变量\"OPENAI_API_KEY\""
   ]
  },
  {
   "cell_type": "code",
   "execution_count": 2,
   "metadata": {},
   "outputs": [
    {
     "data": {
      "text/plain": [
       "True"
      ]
     },
     "execution_count": 2,
     "metadata": {},
     "output_type": "execute_result"
    }
   ],
   "source": [
    "from dotenv import load_dotenv\n",
    "load_dotenv()"
   ]
  },
  {
   "cell_type": "code",
   "execution_count": 4,
   "metadata": {},
   "outputs": [],
   "source": [
    "from openai import  OpenAI\n",
    "client = OpenAI(\n",
    "    base_url = \"https://api.moonshot.cn/v1\"\n",
    ")"
   ]
  },
  {
   "cell_type": "code",
   "execution_count": 9,
   "metadata": {},
   "outputs": [
    {
     "name": "stdout",
     "output_type": "stream",
     "text": [
      "当然可以。以下是一些理由，帮助你评估是否真的需要购买一个新的键盘：\n",
      "\n",
      "1. **现有键盘的使用寿命**：如果你的现有键盘仍然功能完好，没有出现故障或磨损，那么你可能不需要立即更换。\n",
      "\n",
      "2. **财务状况**：考虑你的预算和当前的财务状况。如果购买新键盘会对你的经济状况造成压力，那么最好推迟购买。\n",
      "\n",
      "3. **需求评估**：思考你是否真的需要一个新键盘。如果你只是出于想要拥有最新技术或设计的原因，而你的现有键盘仍然满足你的使用需求，那么购买新键盘可能不是必要的。\n",
      "\n",
      "4. **技术升级的必要性**：评估新键盘是否提供了你的现有键盘所没有的功能，这些功能是否对你的工作或生活有实质性的改善。\n",
      "\n",
      "5. **环境影响**：购买新商品会产生包装废物和可能的电子废物，这会对环境产生一定的影响。如果可能，考虑修理或重新利用现有的键盘。\n",
      "\n",
      "6. **冲动购物**：问问自己这是否是一种冲动购物。有时候，我们只是想要一种新鲜感，而不是真正需要一个新键盘。\n",
      "\n",
      "7. **替代方案**：考虑是否有其他更经济或更环保的方式来满足你对键盘的需求，比如清洁和维护现有的键盘，或者借用朋友的键盘。\n",
      "\n",
      "8. **功能性与实用性**：新键盘是否具有你真正需要的特定功能？有时候，一些高端键盘的附加功能可能对大多数用户来说并不实用。\n",
      "\n",
      "9. **技术过时的速度**：技术产品更新换代非常快，购买新键盘可能很快就会被更新的技术所超越。\n",
      "\n",
      "10. **等待促销或折扣**：如果你确实需要一个新的键盘，考虑等待促销或折扣季节，这样可以节省一些开支。\n",
      "\n",
      "通过这些理由，你可以更全面地评估是否真的需要购买一个新的键盘，以及这个购买决策是否明智。\n"
     ]
    }
   ],
   "source": [
    "completion = client.chat.completions.create(\n",
    "    model = \"moonshot-v1-128k\",\n",
    "    messages = [\n",
    "        {'role': 'system','content' : \"你被用于抑制用户的购买欲望。也就是说，当用户说想要买什么东西时，你需要提供合理的理由让用户不要购买。\"},\n",
    "        {'role': 'user', 'content': \"我正在考虑购买一个键盘，但我想抑制购买欲望。你能帮我列出一些理由，让我思考一下我是否真的需要这个商品吗？\"}\n",
    "    ],\n",
    "    max_tokens = 500,\n",
    "    temperature = 0.6\n",
    ")\n",
    "\n",
    "print(completion.choices[0].message.content)"
   ]
  },
  {
   "cell_type": "code",
   "execution_count": 11,
   "metadata": {},
   "outputs": [],
   "source": [
    "from langchain_openai import ChatOpenAI\n",
    "from langchain.prompts import ChatPromptTemplate"
   ]
  },
  {
   "cell_type": "code",
   "execution_count": 12,
   "metadata": {},
   "outputs": [
    {
     "data": {
      "text/plain": [
       "'System: 你被用于抑制用户的购买欲望。也就是说，当用户说想要买什么东西时，你需要提供合理的理由让用户不要购买。\\nHuman: 我正在考虑购买一个iPhone 13，但我想抑制购买欲望。你能帮我列出一些理由，让我思考一下我是否真的需要这个商品吗？'"
      ]
     },
     "execution_count": 12,
     "metadata": {},
     "output_type": "execute_result"
    }
   ],
   "source": [
    "prompt_template = ChatPromptTemplate.from_messages(\n",
    "    [\n",
    "        ('system',\"你被用于抑制用户的购买欲望。也就是说，当用户说想要买什么东西时，你需要提供合理的理由让用户不要购买。\"),\n",
    "        ('human',\"我正在考虑购买一个{product}，但我想抑制购买欲望。你能帮我列出一些理由，让我思考一下我是否真的需要这个商品吗？\")\n",
    "    ]\n",
    ")\n",
    "\n",
    "prompt_template.format(product=\"iPhone 13\")"
   ]
  },
  {
   "cell_type": "code",
   "execution_count": 13,
   "metadata": {},
   "outputs": [],
   "source": [
    "model = ChatOpenAI(\n",
    "    model = 'moonshot-v1-32k',\n",
    "    base_url = \"https://api.moonshot.cn/v1\",\n",
    "    max_tokens=500,\n",
    "    temperature=0.6\n",
    ")"
   ]
  },
  {
   "cell_type": "code",
   "execution_count": 16,
   "metadata": {},
   "outputs": [],
   "source": [
    "def output_parser(output: str):\n",
    "    parser_model = ChatOpenAI(\n",
    "        model = 'moonshot-v1-32k',\n",
    "        temperature=0.8,\n",
    "        openai_api_base = \"https://api.moonshot.cn/v1\"\n",
    "    )\n",
    "    \n",
    "    message = \"你需要将传入的文本进行改写，尽可能自然且符合人类对话习惯而不是采用类似键值对的形式回答。这是你需要改写的文本:'{text}'\"\n",
    "    return parser_model.invoke(message.format(text = output))"
   ]
  },
  {
   "cell_type": "markdown",
   "metadata": {},
   "source": [
    "注：理论上在第一步prompt的时候直接要求输出自然的文本也是可以的，但是在工程上为了实现稳定的结果，最好一步只做一件事。"
   ]
  },
  {
   "cell_type": "code",
   "execution_count": 17,
   "metadata": {},
   "outputs": [
    {
     "name": "stdout",
     "output_type": "stream",
     "text": [
      "如果你在考虑是否购买一副新耳机，这里有一些因素可能对你的决定有所帮助。首先，不要急于购买，检查一下你现有的耳机是否仍然功能完好。如果它们还处于良好状态，那么你或许没有必要立刻更换。\n",
      "\n",
      "此外，我们需要考虑预算问题。买新耳机是否会给你带来财务压力？如果会，就等一等吧。科技产品更新换代非常快，你可能刚买了新款，不久就会有更先进的产品出现。所以，如果你不总是需要用耳机，或者只有在特定情况下才用，那么不必花大价钱购买。\n",
      "\n",
      "我们还应该考虑音质。如果你对音质要求不高，现有的耳机可能已经足够满足你的需求。对环境的关注也很重要。购买新耳机会产生更多的电子垃圾。如果可能的话，考虑修理或升级你的现有耳机来减少环境影响。\n",
      "\n",
      "如果你的生活方式即将发生变化，比如搬家、换工作或旅游，那么现在可能不是购买新耳机的最佳时机。而且，如果你不急于购买，可以等待促销活动，那时候可能会有更优惠的价格。\n",
      "\n",
      "有时候，我们可能会考虑其他替代方案，比如使用音响系统或公共播放设备来满足我们的音频需求。购买耳机，是否是出于一时的冲动？还是经过深思熟虑的需求？最后，思考一下，购买新耳机是否与你的生活方式和价值观相符，比如你是否更倾向于简单生活或极简主义。\n",
      "\n",
      "此外，你也可以考虑将预算用于其他方面，比如储蓄、投资、教育或健康，这可能会为你带来更大的长期回报。通过这些思考，你将能够更全面地评估自己是否真的需要购买新耳机，并决定何时购买最为合适。\n"
     ]
    }
   ],
   "source": [
    "# using langchain pipeline\n",
    "chain = prompt_template | model | output_parser\n",
    "answer = chain.invoke(input = {'product' : '耳机'})\n",
    "print(answer.content)"
   ]
  }
 ],
 "metadata": {
  "kernelspec": {
   "display_name": "base",
   "language": "python",
   "name": "python3"
  },
  "language_info": {
   "codemirror_mode": {
    "name": "ipython",
    "version": 3
   },
   "file_extension": ".py",
   "mimetype": "text/x-python",
   "name": "python",
   "nbconvert_exporter": "python",
   "pygments_lexer": "ipython3",
   "version": "3.10.9"
  }
 },
 "nbformat": 4,
 "nbformat_minor": 2
}
